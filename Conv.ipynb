{
 "cells": [
  {
   "cell_type": "markdown",
   "metadata": {},
   "source": [
    "# Convolutional Network"
   ]
  },
  {
   "cell_type": "markdown",
   "metadata": {},
   "source": [
    "Load the libraries and data"
   ]
  },
  {
   "cell_type": "code",
   "execution_count": null,
   "metadata": {},
   "outputs": [],
   "source": [
    "import numpy as np\n",
    "from Conv_util import*\n",
    "import tensorflow as tf\n",
    "from tensorflow.python.framework import ops\n",
    "import pandas as pd"
   ]
  },
  {
   "cell_type": "code",
   "execution_count": null,
   "metadata": {
    "collapsed": true
   },
   "outputs": [],
   "source": [
    "Train_file = 'Train.csv'\n",
    "Test_file = 'Test.csv'\n",
    "Teaching_file = \"Teacherset.csv\""
   ]
  },
  {
   "cell_type": "code",
   "execution_count": null,
   "metadata": {},
   "outputs": [],
   "source": [
    "X_train,Y_train,Y_train_index = get_X_and_Y(Train_file,Xshape = [60,60,1],Yshape = 5)"
   ]
  },
  {
   "cell_type": "code",
   "execution_count": null,
   "metadata": {
    "scrolled": true
   },
   "outputs": [],
   "source": [
    "X_test,Y_test,Y_test_index = get_X_and_Y(Test_file,Xshape = [60,60,1],Yshape = 5)"
   ]
  },
  {
   "cell_type": "code",
   "execution_count": null,
   "metadata": {},
   "outputs": [],
   "source": [
    "X_teach,Y_teach,Y_teach_index = read_teacher(Teaching_file)"
   ]
  },
  {
   "cell_type": "markdown",
   "metadata": {},
   "source": [
    "model function creates a completely new model. \n",
    "\n",
    "After the training is finished, one can decide whether to save the new model and the name of the new model. The new model will be saved to the checkpointset in this file."
   ]
  },
  {
   "cell_type": "code",
   "execution_count": null,
   "metadata": {
    "scrolled": true
   },
   "outputs": [],
   "source": [
    "model(X_train, Y_train,learning_rate = 0.009,num_epochs = 1, minibatch_size = 64,keep_prob = 0.5,keep_prob2 = 0.6)"
   ]
  },
  {
   "cell_type": "markdown",
   "metadata": {},
   "source": [
    " The checkname variable below defines the checkpoint being used in the following functions\n",
    " \n",
    " Notice that here we have two check point available.\n",
    " \n",
    " They are different in how the first dropout is applied.\n",
    " \n",
    " The default network structure is suitable for the 'hidden' one.\n",
    "\n",
    " If one wants to train in the 'dropout_in_input'setting, the forward_prob function in Conv_util.py has to be adjusted"
   ]
  },
  {
   "cell_type": "code",
   "execution_count": null,
   "metadata": {
    "collapsed": true
   },
   "outputs": [],
   "source": [
    "checkpoint_name = 'Conv_with_dropout_in_hidden_layer'\n",
    "#checkpoint_name = 'Conv_with_dropout_in_input_layer'\n",
    "checkpoint_filepath = 'checkpointset\\\\'+checkpoint_name+'.ckpt'"
   ]
  },
  {
   "cell_type": "markdown",
   "metadata": {},
   "source": [
    "Continue_train_with ckpt continues to train the checkpoint in that checkpoint_file defined.\n",
    "\n",
    "When asked save where to save the ckpt, press 'Enter' can overwrite the ckpt just used by default.\n",
    "\n",
    "If one would not want to overwrite the ckpt given but mis-overwrite the ckpt, reload them from the dic:'origincheckpointset'\n",
    "\n",
    "When asked whether to train again, press 'Enter' will not start the retraining."
   ]
  },
  {
   "cell_type": "code",
   "execution_count": null,
   "metadata": {
    "scrolled": false
   },
   "outputs": [],
   "source": [
    "continue_model(X_train, Y_train,checkpoint_name,learning_rate = 0.0015,\n",
    "          num_epochs = 20, minibatch_size = 32,keep_prob = 0.5,keep_prob2 = 0.8)"
   ]
  },
  {
   "cell_type": "markdown",
   "metadata": {},
   "source": [
    "Evaluate how well the model has been doing on different sets of csv files using the following function. Notice the changes due to the flip in colours."
   ]
  },
  {
   "cell_type": "code",
   "execution_count": null,
   "metadata": {
    "scrolled": true
   },
   "outputs": [],
   "source": [
    "tensorflow_evaluate(checkpoint_filepath,X_train,Y_train_index,print_prediction = False)"
   ]
  },
  {
   "cell_type": "code",
   "execution_count": null,
   "metadata": {},
   "outputs": [],
   "source": [
    "tensorflow_evaluate(checkpoint_filepath,1-X_train,Y_train_index,print_prediction = False)"
   ]
  },
  {
   "cell_type": "code",
   "execution_count": null,
   "metadata": {},
   "outputs": [],
   "source": [
    "tensorflow_evaluate(checkpoint_filepath,X_test,Y_test_index,print_prediction = False)"
   ]
  },
  {
   "cell_type": "code",
   "execution_count": null,
   "metadata": {},
   "outputs": [],
   "source": [
    "tensorflow_evaluate(checkpoint_filepath,1-X_test,Y_test_index,print_prediction = False)"
   ]
  },
  {
   "cell_type": "code",
   "execution_count": null,
   "metadata": {
    "scrolled": true
   },
   "outputs": [],
   "source": [
    "tensorflow_evaluate(checkpoint_filepath,X_teach,Y_teach_index,print_prediction = False)"
   ]
  },
  {
   "cell_type": "code",
   "execution_count": null,
   "metadata": {},
   "outputs": [],
   "source": [
    "tensorflow_evaluate(checkpoint_filepath,1-X_teach,Y_teach_index,print_prediction = False)"
   ]
  },
  {
   "cell_type": "markdown",
   "metadata": {},
   "source": [
    "In image recognition, maybe we should be careful about dropout in the input layer, especially when symmetrical white and black contents are expected because dropout is creating asymmetry."
   ]
  },
  {
   "cell_type": "markdown",
   "metadata": {
    "collapsed": true
   },
   "source": [
    "Evaluta how well the model has been doing on the image collected in the image pack.\n",
    "\n",
    "This function can read image from 'pic_start_num.jpg' to 'pic_start_num+pic_num-1.jpg' and give the calculated output\n",
    "\n",
    "If 'showpic = True', then the function will show pictures in 60\\*60 grey scale, and it will be rather slow."
   ]
  },
  {
   "cell_type": "code",
   "execution_count": null,
   "metadata": {
    "scrolled": true
   },
   "outputs": [],
   "source": [
    "read_pictures_and_evaluate(checkpoint_filepath,picture_num = 4,kind = 1,picture_start_num = 0,print_prediction = True)"
   ]
  },
  {
   "cell_type": "code",
   "execution_count": null,
   "metadata": {
    "collapsed": true
   },
   "outputs": [],
   "source": []
  },
  {
   "cell_type": "code",
   "execution_count": null,
   "metadata": {
    "collapsed": true
   },
   "outputs": [],
   "source": []
  }
 ],
 "metadata": {
  "kernelspec": {
   "display_name": "Python 3",
   "language": "python",
   "name": "python3"
  },
  "language_info": {
   "codemirror_mode": {
    "name": "ipython",
    "version": 3
   },
   "file_extension": ".py",
   "mimetype": "text/x-python",
   "name": "python",
   "nbconvert_exporter": "python",
   "pygments_lexer": "ipython3",
   "version": "3.6.2"
  }
 },
 "nbformat": 4,
 "nbformat_minor": 2
}
