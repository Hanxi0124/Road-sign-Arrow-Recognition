{
 "cells": [
  {
   "cell_type": "markdown",
   "metadata": {},
   "source": [
    "# Fully_connected_neural network"
   ]
  },
  {
   "cell_type": "code",
   "execution_count": null,
   "metadata": {
    "collapsed": true
   },
   "outputs": [],
   "source": [
    "import numpy as np\n",
    "from Full_connect_util import*\n",
    "import tensorflow as tf\n",
    "from tensorflow.python.framework import ops"
   ]
  },
  {
   "cell_type": "code",
   "execution_count": null,
   "metadata": {
    "collapsed": true
   },
   "outputs": [],
   "source": [
    "Train_file = 'Train.csv'\n",
    "Test_file = 'Test.csv'\n",
    "Teacher_file = 'Teacherset.csv'\n",
    "Teach_test_file = \"Teachtest.csv\""
   ]
  },
  {
   "cell_type": "markdown",
   "metadata": {},
   "source": [
    "Layer dimension is listed here. \n",
    "\n",
    "This list could be modified to change the number of cells in hidden layers."
   ]
  },
  {
   "cell_type": "code",
   "execution_count": null,
   "metadata": {
    "collapsed": true
   },
   "outputs": [],
   "source": [
    "layer_dims = [3600,350,50,5]"
   ]
  },
  {
   "cell_type": "code",
   "execution_count": null,
   "metadata": {
    "collapsed": true
   },
   "outputs": [],
   "source": [
    "X_train,Y_train,Y_train_index = get_X_and_Y(Train_file)"
   ]
  },
  {
   "cell_type": "code",
   "execution_count": null,
   "metadata": {},
   "outputs": [],
   "source": [
    "X_test,Y_test,Y_test_index= get_X_and_Y(Test_file)"
   ]
  },
  {
   "cell_type": "code",
   "execution_count": null,
   "metadata": {},
   "outputs": [],
   "source": [
    "X_teach,Y_teach,Y_teach_index = read_teacher(Teacher_file)"
   ]
  },
  {
   "cell_type": "code",
   "execution_count": null,
   "metadata": {},
   "outputs": [],
   "source": [
    "X_teachtest,Y_teachtest,Y_teachtest_index = read_teacher(Teach_test_file)"
   ]
  },
  {
   "cell_type": "markdown",
   "metadata": {},
   "source": [
    "model function creates a completely new model. \n",
    "\n",
    "After the training is finished, one can decide whether to save the new model and the name of the new model. The new model will be saved to the checkpointset in this file."
   ]
  },
  {
   "cell_type": "code",
   "execution_count": null,
   "metadata": {
    "collapsed": true,
    "scrolled": true
   },
   "outputs": [],
   "source": [
    "model(X_train, Y_train,layer_dims, learning_rate = 0.001,num_epochs = 1, minibatch_size = 64,keep_prob = 0.7)"
   ]
  },
  {
   "cell_type": "markdown",
   "metadata": {},
   "source": [
    " The checkname variable below defines the checkpoint being used in the following functions"
   ]
  },
  {
   "cell_type": "code",
   "execution_count": null,
   "metadata": {
    "collapsed": true
   },
   "outputs": [],
   "source": [
    "checkname = 'Full_connect_model'\n",
    "\n",
    "checkpoint_filepath = 'checkpointset\\\\'+checkname+'.ckpt'"
   ]
  },
  {
   "cell_type": "markdown",
   "metadata": {},
   "source": [
    " Continue_train_with ckpt continues to train the checkpoint in that checkpoint_file defined.\n",
    " \n",
    " When asked save where to save the ckpt, press 'Enter' can overwrite the ckpt just used by default.\n",
    " \n",
    " If one would not want to overwrite the ckpt given but mis-overwrite the ckpt, reload them from the dic:'origincheckpointset'\n",
    " \n",
    " When asked wheter to train again, press 'Enter' will not start the retraining."
   ]
  },
  {
   "cell_type": "code",
   "execution_count": null,
   "metadata": {
    "collapsed": true,
    "scrolled": false
   },
   "outputs": [],
   "source": [
    "continue_train_with_ckpt(X_train, Y_train,checkpoint_filepath,layer_dims, learning_rate = 0.00006,num_epochs = 1, minibatch_size = 1000,keep_prob = 0.55)"
   ]
  },
  {
   "cell_type": "markdown",
   "metadata": {},
   "source": [
    "Evaluate how well the model has been doing on different sets of csv files using the following function  "
   ]
  },
  {
   "cell_type": "code",
   "execution_count": null,
   "metadata": {
    "collapsed": true
   },
   "outputs": [],
   "source": [
    "tensorflow_evaluate( checkpoint_filepath,X_train,Y_train_index,layer_dims,False)"
   ]
  },
  {
   "cell_type": "code",
   "execution_count": null,
   "metadata": {},
   "outputs": [],
   "source": [
    "tensorflow_evaluate( checkpoint_filepath,X_test,Y_test_index,layer_dims,False)"
   ]
  },
  {
   "cell_type": "code",
   "execution_count": null,
   "metadata": {},
   "outputs": [],
   "source": [
    "tensorflow_evaluate( checkpoint_filepath,X_teach,Y_teach_index,layer_dims,False)"
   ]
  },
  {
   "cell_type": "code",
   "execution_count": null,
   "metadata": {},
   "outputs": [],
   "source": [
    "tensorflow_evaluate( checkpoint_filepath,1-X_teach,Y_teach_index,layer_dims,False)"
   ]
  },
  {
   "cell_type": "code",
   "execution_count": null,
   "metadata": {},
   "outputs": [],
   "source": [
    "tensorflow_evaluate( checkpoint_filepath,X_teachtest,Y_teachtest_index,layer_dims,False)"
   ]
  },
  {
   "cell_type": "code",
   "execution_count": null,
   "metadata": {},
   "outputs": [],
   "source": [
    "tensorflow_evaluate( checkpoint_filepath,1-X_teachtest,Y_teachtest_index,layer_dims,False)"
   ]
  },
  {
   "cell_type": "markdown",
   "metadata": {},
   "source": [
    "Evaluta how well the model has been doing on the images collected in the image pack.\n",
    "\n",
    "This function can read image from 'pic_start_num.jpg' to 'pic_start_num+pic_num-1.jpg' and give the calculated output\n",
    "\n",
    "If 'showpic = True', then the function will show pictures in 60\\*60 grey scale, and it will be rather slow."
   ]
  },
  {
   "cell_type": "code",
   "execution_count": null,
   "metadata": {
    "collapsed": true
   },
   "outputs": [],
   "source": [
    "read_pictures_and_evaluate(checkpoint_filepath,layer_dims,picture_num = 4,picture_start_num = 0,\n",
    "                               showpic = False,printprediction = True)"
   ]
  },
  {
   "cell_type": "code",
   "execution_count": null,
   "metadata": {
    "collapsed": true
   },
   "outputs": [],
   "source": []
  }
 ],
 "metadata": {
  "kernelspec": {
   "display_name": "Python 3",
   "language": "python",
   "name": "python3"
  },
  "language_info": {
   "codemirror_mode": {
    "name": "ipython",
    "version": 3
   },
   "file_extension": ".py",
   "mimetype": "text/x-python",
   "name": "python",
   "nbconvert_exporter": "python",
   "pygments_lexer": "ipython3",
   "version": "3.6.2"
  }
 },
 "nbformat": 4,
 "nbformat_minor": 2
}
